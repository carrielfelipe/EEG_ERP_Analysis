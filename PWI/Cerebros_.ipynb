{
 "cells": [
  {
   "cell_type": "code",
   "execution_count": 5,
   "id": "8dcddf6f",
   "metadata": {},
   "outputs": [],
   "source": [
    "import pandas as pd\n",
    "\n",
    "df_regiones_cerebrales = pd.read_excel('AAL90_coloreado_por_lobulo.xlsx')"
   ]
  },
  {
   "cell_type": "code",
   "execution_count": 20,
   "id": "b70052bf",
   "metadata": {},
   "outputs": [
    {
     "data": {
      "text/html": [
       "<div>\n",
       "<style scoped>\n",
       "    .dataframe tbody tr th:only-of-type {\n",
       "        vertical-align: middle;\n",
       "    }\n",
       "\n",
       "    .dataframe tbody tr th {\n",
       "        vertical-align: top;\n",
       "    }\n",
       "\n",
       "    .dataframe thead th {\n",
       "        text-align: right;\n",
       "    }\n",
       "</style>\n",
       "<table border=\"1\" class=\"dataframe\">\n",
       "  <thead>\n",
       "    <tr style=\"text-align: right;\">\n",
       "      <th></th>\n",
       "      <th>Indice</th>\n",
       "      <th>AAL90_Region</th>\n",
       "      <th>AAL90_Index</th>\n",
       "      <th>Lobulo</th>\n",
       "      <th>Color_RGB</th>\n",
       "      <th>Color_HEX</th>\n",
       "    </tr>\n",
       "  </thead>\n",
       "  <tbody>\n",
       "    <tr>\n",
       "      <th>0</th>\n",
       "      <td>1</td>\n",
       "      <td>Precentral_L</td>\n",
       "      <td>2001</td>\n",
       "      <td>Lobulo Frontal</td>\n",
       "      <td>0.218,0.000,0.000</td>\n",
       "      <td>#380000</td>\n",
       "    </tr>\n",
       "    <tr>\n",
       "      <th>1</th>\n",
       "      <td>2</td>\n",
       "      <td>Precentral_R</td>\n",
       "      <td>2002</td>\n",
       "      <td>Lobulo Frontal</td>\n",
       "      <td>0.230,0.000,0.000</td>\n",
       "      <td>#3b0000</td>\n",
       "    </tr>\n",
       "    <tr>\n",
       "      <th>2</th>\n",
       "      <td>3</td>\n",
       "      <td>Frontal_Sup_L</td>\n",
       "      <td>2101</td>\n",
       "      <td>Lobulo Frontal</td>\n",
       "      <td>0.242,0.000,0.000</td>\n",
       "      <td>#3e0000</td>\n",
       "    </tr>\n",
       "    <tr>\n",
       "      <th>3</th>\n",
       "      <td>4</td>\n",
       "      <td>Frontal_Sup_R</td>\n",
       "      <td>2102</td>\n",
       "      <td>Lobulo Frontal</td>\n",
       "      <td>0.254,0.000,0.000</td>\n",
       "      <td>#410000</td>\n",
       "    </tr>\n",
       "    <tr>\n",
       "      <th>4</th>\n",
       "      <td>5</td>\n",
       "      <td>Frontal_Sup_Orb_L</td>\n",
       "      <td>2111</td>\n",
       "      <td>Lobulo Frontal</td>\n",
       "      <td>0.266,0.000,0.000</td>\n",
       "      <td>#440000</td>\n",
       "    </tr>\n",
       "    <tr>\n",
       "      <th>...</th>\n",
       "      <td>...</td>\n",
       "      <td>...</td>\n",
       "      <td>...</td>\n",
       "      <td>...</td>\n",
       "      <td>...</td>\n",
       "      <td>...</td>\n",
       "    </tr>\n",
       "    <tr>\n",
       "      <th>77</th>\n",
       "      <td>78</td>\n",
       "      <td>Temporal_Mid_R</td>\n",
       "      <td>8202</td>\n",
       "      <td>Lobulo Temporal</td>\n",
       "      <td>0.782,0.429,0.000</td>\n",
       "      <td>#c76d00</td>\n",
       "    </tr>\n",
       "    <tr>\n",
       "      <th>78</th>\n",
       "      <td>79</td>\n",
       "      <td>Temporal_Pole_Mid_L</td>\n",
       "      <td>8211</td>\n",
       "      <td>Lobulo Temporal</td>\n",
       "      <td>0.836,0.459,0.000</td>\n",
       "      <td>#d57500</td>\n",
       "    </tr>\n",
       "    <tr>\n",
       "      <th>79</th>\n",
       "      <td>80</td>\n",
       "      <td>Temporal_Pole_Mid_R</td>\n",
       "      <td>8212</td>\n",
       "      <td>Lobulo Temporal</td>\n",
       "      <td>0.891,0.489,0.000</td>\n",
       "      <td>#e37d00</td>\n",
       "    </tr>\n",
       "    <tr>\n",
       "      <th>80</th>\n",
       "      <td>81</td>\n",
       "      <td>Temporal_Inf_L</td>\n",
       "      <td>8301</td>\n",
       "      <td>Lobulo Temporal</td>\n",
       "      <td>0.945,0.519,0.000</td>\n",
       "      <td>#f18400</td>\n",
       "    </tr>\n",
       "    <tr>\n",
       "      <th>81</th>\n",
       "      <td>82</td>\n",
       "      <td>Temporal_Inf_R</td>\n",
       "      <td>8302</td>\n",
       "      <td>Lobulo Temporal</td>\n",
       "      <td>1.000,0.549,0.000</td>\n",
       "      <td>#ff8c00</td>\n",
       "    </tr>\n",
       "  </tbody>\n",
       "</table>\n",
       "<p>82 rows × 6 columns</p>\n",
       "</div>"
      ],
      "text/plain": [
       "    Indice         AAL90_Region  AAL90_Index           Lobulo  \\\n",
       "0        1         Precentral_L         2001   Lobulo Frontal   \n",
       "1        2         Precentral_R         2002   Lobulo Frontal   \n",
       "2        3        Frontal_Sup_L         2101   Lobulo Frontal   \n",
       "3        4        Frontal_Sup_R         2102   Lobulo Frontal   \n",
       "4        5    Frontal_Sup_Orb_L         2111   Lobulo Frontal   \n",
       "..     ...                  ...          ...              ...   \n",
       "77      78       Temporal_Mid_R         8202  Lobulo Temporal   \n",
       "78      79  Temporal_Pole_Mid_L         8211  Lobulo Temporal   \n",
       "79      80  Temporal_Pole_Mid_R         8212  Lobulo Temporal   \n",
       "80      81       Temporal_Inf_L         8301  Lobulo Temporal   \n",
       "81      82       Temporal_Inf_R         8302  Lobulo Temporal   \n",
       "\n",
       "            Color_RGB Color_HEX  \n",
       "0   0.218,0.000,0.000   #380000  \n",
       "1   0.230,0.000,0.000   #3b0000  \n",
       "2   0.242,0.000,0.000   #3e0000  \n",
       "3   0.254,0.000,0.000   #410000  \n",
       "4   0.266,0.000,0.000   #440000  \n",
       "..                ...       ...  \n",
       "77  0.782,0.429,0.000   #c76d00  \n",
       "78  0.836,0.459,0.000   #d57500  \n",
       "79  0.891,0.489,0.000   #e37d00  \n",
       "80  0.945,0.519,0.000   #f18400  \n",
       "81  1.000,0.549,0.000   #ff8c00  \n",
       "\n",
       "[82 rows x 6 columns]"
      ]
     },
     "execution_count": 20,
     "metadata": {},
     "output_type": "execute_result"
    }
   ],
   "source": [
    "df_regiones_cerebrales"
   ]
  },
  {
   "cell_type": "code",
   "execution_count": 23,
   "id": "0b46a3e9",
   "metadata": {},
   "outputs": [],
   "source": [
    "import nibabel as nb\n",
    "import numpy as np\n",
    "import pandas as pd\n",
    "\n",
    "def pintar_regiones_aal90(lista_regiones, ruta_nii, df_coloreado, nombre_salida='salida.nii.gz'):\n",
    "    \"\"\"\n",
    "    Pinta una máscara basada en AAL90, usando el índice como valor voxel.\n",
    "\n",
    "    Parámetros:\n",
    "    - lista_regiones: lista de strings con nombres de regiones (AAL90_Region).\n",
    "    - ruta_nii: path al archivo .nii base (AAL90).\n",
    "    - df_coloreado: DataFrame con columnas AAL90_Region, AAL90_Index y Indice.\n",
    "    - nombre_salida: nombre del archivo de salida .nii.gz.\n",
    "    \"\"\"\n",
    "\n",
    "    # Cargar imagen\n",
    "    nifti_img = nb.load(ruta_nii)\n",
    "    data = nifti_img.get_fdata()\n",
    "    nueva_data = np.zeros_like(data)\n",
    "\n",
    "    # Inicializar lista de regiones omitidas\n",
    "    regiones_omitidas = []\n",
    "\n",
    "    for region in lista_regiones:\n",
    "        fila = df_coloreado[df_coloreado['AAL90_Region'] == region]\n",
    "\n",
    "        if fila.empty or pd.isna(fila['AAL90_Index'].values[0]) or pd.isna(fila['Indice'].values[0]):\n",
    "            regiones_omitidas.append(region)\n",
    "            continue\n",
    "\n",
    "        valor_mascara = int(fila['AAL90_Index'].values[0])\n",
    "        indice = int(fila['Indice'].values[0])\n",
    "        valor_voxel = 3 * indice - 1  # <-- Corrección aplicada aquí\n",
    "\n",
    "        voxeles_region = (data == valor_mascara)\n",
    "        nueva_data[voxeles_region] = valor_voxel\n",
    "\n",
    "    # Guardar nueva imagen\n",
    "    nueva_img = nb.Nifti1Image(nueva_data, nifti_img.affine)\n",
    "    nb.save(nueva_img, nombre_salida)\n",
    "\n",
    "    # Reportar resultado\n",
    "    if regiones_omitidas:\n",
    "        print(\"⚠️ Regiones omitidas (no encontradas en el dataframe):\")\n",
    "        for r in regiones_omitidas:\n",
    "            print(f\" - {r}\")\n",
    "    else:\n",
    "        print(\"✅ Todas las regiones fueron pintadas correctamente.\")\n",
    "\n"
   ]
  },
  {
   "cell_type": "code",
   "execution_count": 16,
   "id": "621c81a3",
   "metadata": {},
   "outputs": [],
   "source": [
    "figura_1  = ['Frontal_Sup_Orb_R', 'Frontal_Mid_R', 'Frontal_Inf_Oper_R', 'Frontal_Inf_Tri_R', 'Frontal_Inf_Orb_R', 'Olfactory_L', 'Olfactory_R', 'Rectus_L', 'Rectus_R', 'Insula_R', 'Cingulum_Post_L', 'Cingulum_Post_R', 'ParaHippocampal_R', 'Calcarine_L', 'Calcarine_R', 'Cuneus_L', 'Cuneus_R', 'Lingual_L', 'Lingual_R', 'Occipital_Sup_L', 'Occipital_Sup_R', 'Occipital_Mid_L', 'Occipital_Mid_R', 'Occipital_Inf_R', 'Fusiform_R', 'Postcentral_R', 'Parietal_Sup_R', 'Parietal_Inf_L', 'Parietal_Inf_R', 'SupraMarginal_L', 'Angular_L', 'Angular_R', 'Precuneus_R', 'Temporal_Mid_L', 'Temporal_Pole_Mid_R', 'Temporal_Inf_L', 'Temporal_Inf_R']\n"
   ]
  },
  {
   "cell_type": "code",
   "execution_count": 24,
   "id": "dd545a43",
   "metadata": {},
   "outputs": [
    {
     "name": "stdout",
     "output_type": "stream",
     "text": [
      "✅ Todas las regiones fueron pintadas correctamente.\n"
     ]
    }
   ],
   "source": [
    "# Ejemplo de uso:\n",
    "# df_regiones_cerebrales = pd.read_excel(\"AAL90_coloreado.xlsx\")\n",
    "pintar_regiones_aal90(figura_1, 'cerebros/AAL.nii', df_regiones_cerebrales, nombre_salida='figura_1.nii.gz')\n"
   ]
  },
  {
   "cell_type": "code",
   "execution_count": 10,
   "id": "33aaaece",
   "metadata": {},
   "outputs": [],
   "source": [
    "figura_2  = ['Olfactory_L', 'Hippocampus_L', 'Calcarine_L', 'Calcarine_R', 'Cuneus_L', 'Cuneus_R', 'Lingual_R', 'Occipital_Sup_L', 'Occipital_Mid_R', 'Temporal_Inf_L']\n"
   ]
  },
  {
   "cell_type": "code",
   "execution_count": 25,
   "id": "6599ca8b",
   "metadata": {},
   "outputs": [
    {
     "name": "stdout",
     "output_type": "stream",
     "text": [
      "✅ Todas las regiones fueron pintadas correctamente.\n"
     ]
    }
   ],
   "source": [
    "pintar_regiones_aal90(figura_2, 'cerebros/AAL.nii', df_regiones_cerebrales, nombre_salida='figura_2.nii.gz')\n"
   ]
  },
  {
   "cell_type": "code",
   "execution_count": 12,
   "id": "209f10eb",
   "metadata": {},
   "outputs": [],
   "source": [
    "figura_3=['Frontal_Sup_R', 'Cingulum_Mid_R', 'Cingulum_Post_L', 'Cingulum_Post_R', 'Occipital_Sup_R', 'Postcentral_R', 'Parietal_Inf_R', 'Angular_R']"
   ]
  },
  {
   "cell_type": "code",
   "execution_count": 26,
   "id": "c548b502",
   "metadata": {},
   "outputs": [
    {
     "name": "stdout",
     "output_type": "stream",
     "text": [
      "✅ Todas las regiones fueron pintadas correctamente.\n"
     ]
    }
   ],
   "source": [
    "pintar_regiones_aal90(figura_3, 'cerebros/AAL.nii', df_regiones_cerebrales, nombre_salida='figura_3.nii.gz')\n"
   ]
  },
  {
   "cell_type": "code",
   "execution_count": 9,
   "id": "6cb3beea",
   "metadata": {},
   "outputs": [
    {
     "name": "stdout",
     "output_type": "stream",
     "text": [
      "[0.218 0.000 0.000; 0.230 0.000 0.000; 0.242 0.000 0.000; 0.254 0.000 0.000; 0.291 0.000 0.000; 0.303 0.000 0.000; 0.339 0.000 0.000; 0.351 0.000 0.000; 0.363 0.000 0.000; 0.376 0.000 0.000; 0.388 0.000 0.000; 0.400 0.000 0.000; 0.412 0.000 0.000; 0.424 0.000 0.000; 0.436 0.000 0.000; 0.448 0.000 0.000; 0.460 0.000 0.000; 0.472 0.000 0.000; 0.485 0.000 0.000; 0.497 0.000 0.000; 0.509 0.000 0.000; 0.521 0.000 0.000; 0.533 0.000 0.000; 0.545 0.000 0.000; 0.509 0.000 0.000; 0.521 0.000 0.000; 0.509 0.000 0.000; 0.521 0.000 0.000; 0.000 0.218 0.218; 0.000 0.243 0.243; 0.000 0.319 0.319; 0.000 0.344 0.344; 0.000 0.369 0.369; 0.000 0.394 0.394; 0.000 0.419 0.419; 0.000 0.444 0.444; 0.000 0.470 0.470; 0.000 0.495 0.495; 0.000 0.520 0.520; 0.000 0.545 0.545; 0.000 0.000 0.218; 0.000 0.000 0.240; 0.000 0.000 0.262; 0.000 0.000 0.283; 0.000 0.000 0.305; 0.000 0.000 0.327; 0.000 0.000 0.349; 0.000 0.000 0.371; 0.000 0.000 0.392; 0.000 0.000 0.414; 0.000 0.000 0.436; 0.000 0.000 0.458; 0.000 0.000 0.480; 0.000 0.000 0.501; 0.000 0.000 0.523; 0.000 0.000 0.545; 0.000 0.157 0.000; 0.000 0.178 0.000; 0.000 0.200 0.000; 0.000 0.221 0.000; 0.000 0.242 0.000; 0.000 0.264 0.000; 0.000 0.285 0.000; 0.000 0.307 0.000; 0.000 0.328 0.000; 0.000 0.349 0.000; 0.000 0.371 0.000; 0.000 0.392 0.000; 0.400 0.220 0.000; 0.455 0.250 0.000; 0.509 0.280 0.000; 0.564 0.309 0.000; 0.618 0.339 0.000; 0.673 0.369 0.000; 0.727 0.399 0.000; 0.782 0.429 0.000; 0.836 0.459 0.000; 0.891 0.489 0.000; 0.945 0.519 0.000; 1.000 0.549 0.000]\n"
     ]
    }
   ],
   "source": [
    "import pandas as pd\n",
    "\n",
    "# Cargar el DataFrame (ya lo tienes cargado como df_regiones_cerebrales)\n",
    "df = df_regiones_cerebrales\n",
    "\n",
    "# Filtrar filas que tienen Color_RGB no nulo\n",
    "df_filtrado = df[df['Color_RGB'].notna()]\n",
    "\n",
    "# Convertir Color_RGB de string a listas de floats\n",
    "colores = df_filtrado['Color_RGB'].apply(lambda x: [float(i) for i in x.split(',')])\n",
    "\n",
    "# Convertir a string formato BrainNet\n",
    "colores_brainnet = '; '.join(['{:.3f} {:.3f} {:.3f}'.format(*rgb) for rgb in colores])\n",
    "\n",
    "# Añadir corchetes al inicio y final\n",
    "paleta_final = '[{}]'.format(colores_brainnet)\n",
    "\n",
    "# Imprimir resultado\n",
    "print(paleta_final)\n"
   ]
  }
 ],
 "metadata": {
  "kernelspec": {
   "display_name": "eeg_env",
   "language": "python",
   "name": "python3"
  },
  "language_info": {
   "codemirror_mode": {
    "name": "ipython",
    "version": 3
   },
   "file_extension": ".py",
   "mimetype": "text/x-python",
   "name": "python",
   "nbconvert_exporter": "python",
   "pygments_lexer": "ipython3",
   "version": "3.12.4"
  }
 },
 "nbformat": 4,
 "nbformat_minor": 5
}
