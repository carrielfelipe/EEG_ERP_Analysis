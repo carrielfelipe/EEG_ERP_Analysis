{
 "cells": [
  {
   "cell_type": "markdown",
   "metadata": {},
   "source": [
    "# T student"
   ]
  },
  {
   "cell_type": "code",
   "execution_count": 5,
   "metadata": {},
   "outputs": [
    {
     "name": "stdout",
     "output_type": "stream",
     "text": [
      "Estadístico t: -6.194\n",
      "P-valor: 0.000\n",
      "Hay diferencias significativas entre las condiciones A y B.\n"
     ]
    }
   ],
   "source": [
    "from scipy.stats import ttest_ind\n",
    "\n",
    "# Datos simulados\n",
    "condicion_A = [3.5, 3.7, 3.6, 3.4, 3.8]\n",
    "condicion_B = [4.1, 4.2, 4.0, 4.3, 4.1]\n",
    "\n",
    "# Prueba t\n",
    "stat, p_value = ttest_ind(condicion_A, condicion_B)\n",
    "\n",
    "print(f\"Estadístico t: {stat:.3f}\")\n",
    "print(f\"P-valor: {p_value:.3f}\")\n",
    "\n",
    "if p_value < 0.05:\n",
    "    print(\"Hay diferencias significativas entre las condiciones A y B.\")\n",
    "else:\n",
    "    print(\"No hay diferencias significativas entre las condiciones A y B.\")\n"
   ]
  },
  {
   "cell_type": "markdown",
   "metadata": {},
   "source": [
    "# Anova"
   ]
  },
  {
   "cell_type": "code",
   "execution_count": 6,
   "metadata": {},
   "outputs": [
    {
     "name": "stdout",
     "output_type": "stream",
     "text": [
      "Estadístico F: 23.098\n",
      "P-valor: 0.000\n",
      "Hay diferencias significativas entre las condiciones.\n"
     ]
    }
   ],
   "source": [
    "from scipy.stats import f_oneway\n",
    "\n",
    "# Datos simulados\n",
    "condicion_A = [3.5, 3.7, 3.6, 3.4, 3.8]\n",
    "condicion_B = [4.1, 4.2, 4.0, 4.3, 4.1]\n",
    "condicion_C = [3.8, 3.7, 3.9, 3.6, 3.7]\n",
    "\n",
    "# ANOVA\n",
    "stat, p_value = f_oneway(condicion_A, condicion_B, condicion_C)\n",
    "\n",
    "print(f\"Estadístico F: {stat:.3f}\")\n",
    "print(f\"P-valor: {p_value:.3f}\")\n",
    "\n",
    "if p_value < 0.05:\n",
    "    print(\"Hay diferencias significativas entre las condiciones.\")\n",
    "else:\n",
    "    print(\"No hay diferencias significativas entre las condiciones.\")\n"
   ]
  },
  {
   "cell_type": "code",
   "execution_count": 4,
   "metadata": {},
   "outputs": [
    {
     "name": "stdout",
     "output_type": "stream",
     "text": [
      "           sum_sq   df     F    PR(>F)\n",
      "Condición    0.38  2.0  19.0  0.002536\n",
      "Residual     0.06  6.0   NaN       NaN\n"
     ]
    },
    {
     "data": {
      "image/png": "[encoded data removed]",
      "text/plain": [
       "<Figure size 640x480 with 1 Axes>"
      ]
     },
     "metadata": {},
     "output_type": "display_data"
    }
   ],
   "source": [
    "import pandas as pd\n",
    "import statsmodels.api as sm\n",
    "from statsmodels.formula.api import ols\n",
    "import seaborn as sns\n",
    "import matplotlib.pyplot as plt\n",
    "\n",
    "# Ejemplo de datos: amplitud promedio de ERP en la ventana 200-300 ms\n",
    "data = pd.DataFrame({\n",
    "    'Amplitud': [3.5, 3.7, 3.6, 4.1, 4.2, 4.0, 3.8, 3.7, 3.9],\n",
    "    'Condición': ['A', 'A', 'A', 'B', 'B', 'B', 'C', 'C', 'C']\n",
    "})\n",
    "\n",
    "# Realizar ANOVA\n",
    "modelo = ols('Amplitud ~ Condición', data=data).fit()\n",
    "anova_resultados = sm.stats.anova_lm(modelo, typ=2)\n",
    "\n",
    "print(anova_resultados)\n",
    "\n",
    "# Visualización de datos\n",
    "sns.boxplot(x='Condición', y='Amplitud', data=data)\n",
    "plt.title('Distribución de amplitudes ERP por condición')\n",
    "plt.show()\n"
   ]
  },
  {
   "cell_type": "code",
   "execution_count": 7,
   "metadata": {},
   "outputs": [
    {
     "name": "stdout",
     "output_type": "stream",
     "text": [
      "Amplitud promedio en la ventana: 2.194 μV\n",
      "Amplitud del pico: 2.851 μV, Latencia del pico: 299.3 ms\n"
     ]
    }
   ],
   "source": [
    "import numpy as np\n",
    "\n",
    "# Simulación de ERP\n",
    "tiempo = np.linspace(0, 500, 1000)  # 0 a 500 ms, 1000 puntos\n",
    "erp = np.sin(tiempo / 50) + 3  # ERP simulado con ruido\n",
    "ruido = np.random.normal(0, 0.1, len(tiempo))\n",
    "erp_ruidoso = erp + ruido\n",
    "\n",
    "# Selección de ventana\n",
    "ventana_inicio, ventana_fin = 200, 300  # ms\n",
    "indices_ventana = (tiempo >= ventana_inicio) & (tiempo <= ventana_fin)\n",
    "\n",
    "# Promedio en la ventana\n",
    "amplitud_promedio = np.mean(erp_ruidoso[indices_ventana])\n",
    "print(f\"Amplitud promedio en la ventana: {amplitud_promedio:.3f} μV\")\n",
    "\n",
    "# Pico dentro de la ventana\n",
    "amplitud_pico = np.max(erp_ruidoso[indices_ventana])\n",
    "latencia_pico = tiempo[indices_ventana][np.argmax(erp_ruidoso[indices_ventana])]\n",
    "print(f\"Amplitud del pico: {amplitud_pico:.3f} μV, Latencia del pico: {latencia_pico:.1f} ms\")\n"
   ]
  }
 ],
 "metadata": {
  "kernelspec": {
   "display_name": "eeg_env",
   "language": "python",
   "name": "python3"
  },
  "language_info": {
   "codemirror_mode": {
    "name": "ipython",
    "version": 3
   },
   "file_extension": ".py",
   "mimetype": "text/x-python",
   "name": "python",
   "nbconvert_exporter": "python",
   "pygments_lexer": "ipython3",
   "version": "3.12.4"
  }
 },
 "nbformat": 4,
 "nbformat_minor": 2
}
